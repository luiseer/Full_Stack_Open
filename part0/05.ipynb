{
 "cells": [
  {
   "cell_type": "markdown",
   "metadata": {},
   "source": [
    "equenceDiagram\n",
    "    participant browser\n",
    "    participant server\n",
    "\n",
    "    browser->>server: GET  https://studies.cs.helsinki.fi/exampleapp/spa\n",
    "    activate server\n",
    "    server-->>browser: HTML document\n",
    "    deactivate server\n",
    "\n",
    "    browser->>server: GET https://studies.cs.helsinki.fi/exampleapp/main.css\n",
    "    server-->>browser: the css file\n",
    "    deactivate server\n",
    "\n",
    "    browser->>server: GET https://studies.cs.helsinki.fi/exampleapp/spa.js\n",
    "    activate server\n",
    "    server-->>browser: the JS-SPA file\n",
    "    deactivate server\n",
    "\n",
    "    browser->>server: GET https://studies.cs.helsinki.fi/exampleapp/data.json\n",
    "    activate server\n",
    "    server-->>browser:    {\n",
    "        \"content\": \"\",\n",
    "        \"date\": \"2024-03-16T01:08:46.686Z\"\n",
    "    }\n",
    "    deactivate server\n",
    "    Note right of browser: The browser executes the callback function that renders the notes"
   ]
  }
 ],
 "metadata": {
  "language_info": {
   "name": "python"
  }
 },
 "nbformat": 4,
 "nbformat_minor": 2
}
